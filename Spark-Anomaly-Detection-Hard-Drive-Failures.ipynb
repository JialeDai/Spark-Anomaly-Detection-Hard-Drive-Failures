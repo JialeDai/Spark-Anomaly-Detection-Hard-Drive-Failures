{
 "cells": [
  {
   "cell_type": "markdown",
   "source": [
    "## Spark-Anomaly-Detection-Hard-Drive-Failures\n",
    "\n",
    "1. Point anomalies: A single instance of data is anomalous if it’s too far off from the rest. Business use case: Detecting credit card fraud based on “amount spent.”\n",
    "2. Contextual anomalies: The abnormality is context specific. This type of anomaly is common in time-series data. Business use case: Spending $100 on food every day during the holiday season is normal, but may be odd otherwise.\n",
    "3. Collective anomalies: A set of data instances collectively helps in detecting anomalies. Business use case: Someone is trying to copy data form a remote machine to a local host unexpectedly, an anomaly that would be flagged as a potential cyber attack."
   ],
   "metadata": {
    "collapsed": false
   }
  },
  {
   "cell_type": "code",
   "execution_count": 2,
   "outputs": [],
   "source": [
    "# this is for me to find spark on my own machine, comment it \n",
    "# import findspark\n",
    "# findspark.init('/root/app/spark-3.1.2-bin-2.6.0-cdh5.7.0')"
   ],
   "metadata": {
    "collapsed": false,
    "pycharm": {
     "name": "#%%\n"
    }
   }
  },
  {
   "cell_type": "code",
   "execution_count": 37,
   "outputs": [],
   "source": [
    "simpling_result_url = \"hdfs://jiale:8020/user/root/simpling-result/\""
   ],
   "metadata": {
    "collapsed": false,
    "pycharm": {
     "name": "#%%\n"
    }
   }
  },
  {
   "cell_type": "code",
   "execution_count": 4,
   "outputs": [],
   "source": [
    "from pyspark.sql import SparkSession\n",
    "spark = SparkSession.builder.appName(\"jd4678-midterm\").getOrCreate()"
   ],
   "metadata": {
    "collapsed": false,
    "pycharm": {
     "name": "#%%\n"
    }
   }
  },
  {
   "cell_type": "code",
   "execution_count": 76,
   "outputs": [],
   "source": [
    "df = spark.read.option(\"delimiter\", \",\").csv(simpling_result_url)"
   ],
   "metadata": {
    "collapsed": false,
    "pycharm": {
     "name": "#%%\n"
    }
   }
  },
  {
   "cell_type": "code",
   "execution_count": 77,
   "outputs": [],
   "source": [
    "df = df.toDF(\"date\",\"serial_number\",\"model\",\"capacity_bytes\",\"failure\",\n",
    "             \"smart_1_normalized\",\"smart_1_raw\",\"smart_2_normalized\",\"smart_2_raw\",\n",
    "             \"smart_3_normalized\",\"smart_3_raw\",\"smart_4_normalized\",\"smart_4_raw\",\n",
    "             \"smart_5_normalized\",\"smart_5_raw\",\"smart_7_normalized\",\"smart_7_raw\",\n",
    "             \"smart_8_normalized\",\"smart_8_raw\",\"smart_9_normalized\",\"smart_9_raw\",\n",
    "             \"smart_10_normalized\",\"smart_10_raw\",\"smart_11_normalized\",\"smart_11_raw\",\n",
    "             \"smart_12_normalized\",\"smart_12_raw\",\"smart_13_normalized\",\"smart_13_raw\",\n",
    "             \"smart_15_normalized\",\"smart_15_raw\",\"smart_16_normalized\",\"smart_16_raw\",\n",
    "             \"smart_17_normalized\",\"smart_17_raw\",\"smart_22_normalized\",\"smart_22_raw\",\n",
    "             \"smart_23_normalized\",\"smart_23_raw\",\"smart_24_normalized\",\"smart_24_raw\",\n",
    "             \"smart_168_normalized\",\"smart_168_raw\",\"smart_170_normalized\",\"smart_170_raw\",\n",
    "             \"smart_173_normalized\",\"smart_173_raw\",\"smart_174_normalized\",\"smart_174_raw\",\n",
    "             \"smart_177_normalized\",\"smart_177_raw\",\"smart_179_normalized\",\"smart_179_raw\",\n",
    "             \"smart_181_normalized\",\"smart_181_raw\",\"smart_182_normalized\",\"smart_182_raw\",\n",
    "             \"smart_183_normalized\",\"smart_183_raw\",\"smart_184_normalized\",\"smart_184_raw\",\n",
    "             \"smart_187_normalized\",\"smart_187_raw\",\"smart_188_normalized\",\"smart_188_raw\",\n",
    "             \"smart_189_normalized\",\"smart_189_raw\",\"smart_190_normalized\",\"smart_190_raw\",\n",
    "             \"smart_191_normalized\",\"smart_191_raw\",\"smart_192_normalized\",\"smart_192_raw\",\n",
    "             \"smart_193_normalized\",\"smart_193_raw\",\"smart_194_normalized\",\"smart_194_raw\",\n",
    "             \"smart_195_normalized\",\"smart_195_raw\",\"smart_196_normalized\",\"smart_196_raw\",\n",
    "             \"smart_197_normalized\",\"smart_197_raw\",\"smart_198_normalized\",\"smart_198_raw\",\n",
    "             \"smart_199_normalized\",\"smart_199_raw\",\"smart_200_normalized\",\"smart_200_raw\",\n",
    "             \"smart_201_normalized\",\"smart_201_raw\",\"smart_218_normalized\",\"smart_218_raw\",\n",
    "             \"smart_220_normalized\",\"smart_220_raw\",\"smart_222_normalized\",\"smart_222_raw\",\n",
    "             \"smart_223_normalized\",\"smart_223_raw\",\"smart_224_normalized\",\"smart_224_raw\",\n",
    "             \"smart_225_normalized\",\"smart_225_raw\",\"smart_226_normalized\",\"smart_226_raw\",\n",
    "             \"smart_231_normalized\",\"smart_231_raw\",\"smart_232_normalized\",\"smart_232_raw\",\n",
    "             \"smart_233_normalized\",\"smart_233_raw\",\"smart_235_normalized\",\"smart_235_raw\",\n",
    "             \"smart_240_normalized\",\"smart_240_raw\",\"smart_241_normalized\",\"smart_241_raw\",\n",
    "             \"smart_242_normalized\",\"smart_242_raw\",\"smart_250_normalized\",\"smart_250_raw\",\n",
    "             \"smart_251_normalized\",\"smart_251_raw\",\"smart_252_normalized\",\"smart_252_raw\",\n",
    "             \"smart_254_normalized\",\"smart_254_raw\",\"smart_255_normalized\",\"smart_255_raw\")"
   ],
   "metadata": {
    "collapsed": false,
    "pycharm": {
     "name": "#%%\n"
    }
   }
  },
  {
   "cell_type": "code",
   "execution_count": 78,
   "outputs": [
    {
     "name": "stdout",
     "output_type": "stream",
     "text": [
      "+----------+--------------+--------------------+--------------+-------+------------------+-----------+------------------+-----------+------------------+-----------+------------------+-----------+------------------+-----------+------------------+-----------+------------------+-----------+------------------+-----------+-------------------+------------+-------------------+------------+-------------------+------------+-------------------+------------+-------------------+------------+-------------------+------------+-------------------+------------+-------------------+------------+-------------------+------------+-------------------+------------+--------------------+-------------+--------------------+-------------+--------------------+-------------+--------------------+-------------+--------------------+-------------+--------------------+-------------+--------------------+-------------+--------------------+-------------+--------------------+-------------+--------------------+-------------+--------------------+-------------+--------------------+-------------+--------------------+-------------+--------------------+-------------+--------------------+-------------+--------------------+-------------+--------------------+-------------+--------------------+-------------+--------------------+-------------+--------------------+-------------+--------------------+-------------+--------------------+-------------+--------------------+-------------+--------------------+-------------+--------------------+-------------+--------------------+-------------+--------------------+-------------+--------------------+-------------+--------------------+-------------+--------------------+-------------+--------------------+-------------+--------------------+-------------+--------------------+-------------+--------------------+-------------+--------------------+-------------+--------------------+-------------+--------------------+-------------+--------------------+-------------+--------------------+-------------+--------------------+-------------+--------------------+-------------+--------------------+-------------+--------------------+-------------+--------------------+-------------+\n",
      "|      date| serial_number|               model|capacity_bytes|failure|smart_1_normalized|smart_1_raw|smart_2_normalized|smart_2_raw|smart_3_normalized|smart_3_raw|smart_4_normalized|smart_4_raw|smart_5_normalized|smart_5_raw|smart_7_normalized|smart_7_raw|smart_8_normalized|smart_8_raw|smart_9_normalized|smart_9_raw|smart_10_normalized|smart_10_raw|smart_11_normalized|smart_11_raw|smart_12_normalized|smart_12_raw|smart_13_normalized|smart_13_raw|smart_15_normalized|smart_15_raw|smart_16_normalized|smart_16_raw|smart_17_normalized|smart_17_raw|smart_22_normalized|smart_22_raw|smart_23_normalized|smart_23_raw|smart_24_normalized|smart_24_raw|smart_168_normalized|smart_168_raw|smart_170_normalized|smart_170_raw|smart_173_normalized|smart_173_raw|smart_174_normalized|smart_174_raw|smart_177_normalized|smart_177_raw|smart_179_normalized|smart_179_raw|smart_181_normalized|smart_181_raw|smart_182_normalized|smart_182_raw|smart_183_normalized|smart_183_raw|smart_184_normalized|smart_184_raw|smart_187_normalized|smart_187_raw|smart_188_normalized|smart_188_raw|smart_189_normalized|smart_189_raw|smart_190_normalized|smart_190_raw|smart_191_normalized|smart_191_raw|smart_192_normalized|smart_192_raw|smart_193_normalized|smart_193_raw|smart_194_normalized|smart_194_raw|smart_195_normalized|smart_195_raw|smart_196_normalized|smart_196_raw|smart_197_normalized|smart_197_raw|smart_198_normalized|smart_198_raw|smart_199_normalized|smart_199_raw|smart_200_normalized|smart_200_raw|smart_201_normalized|smart_201_raw|smart_218_normalized|smart_218_raw|smart_220_normalized|smart_220_raw|smart_222_normalized|smart_222_raw|smart_223_normalized|smart_223_raw|smart_224_normalized|smart_224_raw|smart_225_normalized|smart_225_raw|smart_226_normalized|smart_226_raw|smart_231_normalized|smart_231_raw|smart_232_normalized|smart_232_raw|smart_233_normalized|smart_233_raw|smart_235_normalized|smart_235_raw|smart_240_normalized|smart_240_raw|smart_241_normalized|smart_241_raw|smart_242_normalized|smart_242_raw|smart_250_normalized|smart_250_raw|smart_251_normalized|smart_251_raw|smart_252_normalized|smart_252_raw|smart_254_normalized|smart_254_raw|smart_255_normalized|smart_255_raw|\n",
      "+----------+--------------+--------------------+--------------+-------+------------------+-----------+------------------+-----------+------------------+-----------+------------------+-----------+------------------+-----------+------------------+-----------+------------------+-----------+------------------+-----------+-------------------+------------+-------------------+------------+-------------------+------------+-------------------+------------+-------------------+------------+-------------------+------------+-------------------+------------+-------------------+------------+-------------------+------------+-------------------+------------+--------------------+-------------+--------------------+-------------+--------------------+-------------+--------------------+-------------+--------------------+-------------+--------------------+-------------+--------------------+-------------+--------------------+-------------+--------------------+-------------+--------------------+-------------+--------------------+-------------+--------------------+-------------+--------------------+-------------+--------------------+-------------+--------------------+-------------+--------------------+-------------+--------------------+-------------+--------------------+-------------+--------------------+-------------+--------------------+-------------+--------------------+-------------+--------------------+-------------+--------------------+-------------+--------------------+-------------+--------------------+-------------+--------------------+-------------+--------------------+-------------+--------------------+-------------+--------------------+-------------+--------------------+-------------+--------------------+-------------+--------------------+-------------+--------------------+-------------+--------------------+-------------+--------------------+-------------+--------------------+-------------+--------------------+-------------+--------------------+-------------+--------------------+-------------+--------------------+-------------+--------------------+-------------+--------------------+-------------+--------------------+-------------+--------------------+-------------+\n",
      "|2019-01-22|      ZA12YTG3|         ST8000DM002| 8001563222016|      0|                83|  178228800|              null|       null|                90|          0|               100|          5|               100|          0|                84|  246961403|              null|       null|                79|      18815|                100|           0|               null|        null|                100|           5|               null|        null|               null|        null|               null|        null|               null|        null|               null|        null|               null|        null|               null|        null|                null|         null|                null|         null|                null|         null|                null|         null|                null|         null|                null|         null|                null|         null|                null|         null|                null|         null|                 100|            0|                 100|            0|                 100|            0|                 100|            0|                  75|           25|                  97|         7868|                 100|            2|                  91|        18720|                  25|           25|                   1|    178228800|                null|         null|                 100|            0|                 100|            0|                 200|            0|                null|         null|                null|         null|                null|         null|                null|         null|                null|         null|                null|         null|                null|         null|                null|         null|                null|         null|                null|         null|                null|         null|                null|         null|                null|         null|                 100|        18774|                 100|  56464430288|                 100| 106285721968|                null|         null|                null|         null|                null|         null|                null|         null|                null|         null|\n",
      "|2019-01-21|      ZA13259L|        ST8000NM0055| 8001563222016|      0|                82|  155647144|              null|       null|                99|          0|               100|          1|               100|          0|                95| 3131217897|              null|       null|                84|      14342|                100|           0|               null|        null|                100|           1|               null|        null|               null|        null|               null|        null|               null|        null|               null|        null|               null|        null|               null|        null|                null|         null|                null|         null|                null|         null|                null|         null|                null|         null|                null|         null|                null|         null|                null|         null|                null|         null|                 100|            0|                 100|            0|                 100|            0|                 100|            0|                  65|           35|                  96|         8081|                 100|            0|                  93|        14544|                  35|           35|                   1|    155647144|                null|         null|                 100|            0|                 100|            0|                 200|            0|                null|         null|                null|         null|                null|         null|                null|         null|                null|         null|                null|         null|                null|         null|                null|         null|                null|         null|                null|         null|                null|         null|                null|         null|                null|         null|                 100|        14335|                 100|  46805614672|                 100| 111621952620|                null|         null|                null|         null|                null|         null|                null|         null|                null|         null|\n",
      "|2019-02-27|      S301164R|         ST4000DM000| 4000787030016|      0|               114|   83129560|              null|       null|                92|          0|               100|          8|               100|          0|                87|  661068334|              null|       null|                62|      33785|                100|           0|               null|        null|                100|           8|               null|        null|               null|        null|               null|        null|               null|        null|               null|        null|               null|        null|               null|        null|                null|         null|                null|         null|                null|         null|                null|         null|                null|         null|                null|         null|                null|         null|                null|         null|                 100|            0|                 100|            0|                  96|            4|                 100|            0|                 100|            0|                  80|           20|                 100|            0|                 100|            0|                  84|        32650|                  20|           20|                null|         null|                null|         null|                 100|            0|                 100|            0|                 200|            0|                null|         null|                null|         null|                null|         null|                null|         null|                null|         null|                null|         null|                null|         null|                null|         null|                null|         null|                null|         null|                null|         null|                null|         null|                null|         null|                 100|        33643|                 100|  58173276664|                 100| 126571858332|                null|         null|                null|         null|                null|         null|                null|         null|                null|         null|\n",
      "|2019-01-10|      ZCH0BXSG|       ST12000NM0007|12000138625024|      0|                70|    9746776|              null|       null|                95|          0|               100|          4|               100|          0|                80|  102281034|              null|       null|                91|       8740|                100|           0|               null|        null|                100|           3|               null|        null|               null|        null|               null|        null|               null|        null|               null|        null|               null|        null|               null|        null|                null|         null|                null|         null|                null|         null|                null|         null|                null|         null|                null|         null|                null|         null|                null|         null|                null|         null|                null|         null|                 100|            0|                 100|            0|                null|         null|                  74|           26|                null|         null|                 100|          104|                 100|          419|                  26|           26|                  70|      9746776|                null|         null|                 100|            0|                 100|            0|                 200|            0|                 100|            0|                null|         null|                null|         null|                null|         null|                null|         null|                null|         null|                null|         null|                null|         null|                null|         null|                null|         null|                null|         null|                null|         null|                null|         null|                 100|         8685|                 100|  48311625552|                 100|  79627912824|                null|         null|                null|         null|                null|         null|                null|         null|                null|         null|\n",
      "|2019-03-29|      AAG6XY7H|HGST HUH721212ALN604|12000138625024|      0|               100|          0|               100|          0|               100|          0|               100|          1|               100|          0|               100|          0|               100|          0|               100|        202|                100|           0|               null|        null|                100|           1|               null|        null|               null|        null|               null|        null|               null|        null|                100|         100|               null|        null|               null|        null|                null|         null|                null|         null|                null|         null|                null|         null|                null|         null|                null|         null|                null|         null|                null|         null|                null|         null|                null|         null|                null|         null|                null|         null|                null|         null|                null|         null|                null|         null|                 100|          345|                 100|          345|                 193|           31|                null|         null|                 100|            0|                 100|            0|                 100|            0|                 200|            0|                null|         null|                null|         null|                null|         null|                null|         null|                null|         null|                null|         null|                null|         null|                null|         null|                null|         null|                null|         null|                null|         null|                null|         null|                null|         null|                null|         null|                null|         null|                null|         null|                null|         null|                null|         null|                null|         null|                null|         null|                null|         null|\n",
      "|2019-03-21|PL1331LAGS7XTH|HGST HMS5C4040ALE640| 4000787030016|      0|               100|          0|               134|        103|               100|        551|               100|          7|               100|          0|               100|          0|               113|         42|                96|      34284|                100|           0|               null|        null|                100|           7|               null|        null|               null|        null|               null|        null|               null|        null|               null|        null|               null|        null|               null|        null|                null|         null|                null|         null|                null|         null|                null|         null|                null|         null|                null|         null|                null|         null|                null|         null|                null|         null|                null|         null|                null|         null|                null|         null|                null|         null|                null|         null|                null|         null|                 100|          517|                 100|          517|                 253|           21|                null|         null|                 100|            0|                 100|            0|                 100|            0|                 200|            0|                null|         null|                null|         null|                null|         null|                null|         null|                null|         null|                null|         null|                null|         null|                null|         null|                null|         null|                null|         null|                null|         null|                null|         null|                null|         null|                null|         null|                null|         null|                null|         null|                null|         null|                null|         null|                null|         null|                null|         null|                null|         null|\n",
      "|2019-03-15|PL1331LAGBYYVH|HGST HMS5C4040ALE640| 4000787030016|      0|               100|          0|               134|        102|               100|        362|               100|          7|               100|          0|               100|          0|               113|         42|                98|      18525|                100|           0|               null|        null|                100|           7|               null|        null|               null|        null|               null|        null|               null|        null|               null|        null|               null|        null|               null|        null|                null|         null|                null|         null|                null|         null|                null|         null|                null|         null|                null|         null|                null|         null|                null|         null|                null|         null|                null|         null|                null|         null|                null|         null|                null|         null|                null|         null|                null|         null|                 100|          163|                 100|          163|                 240|           25|                null|         null|                 100|            0|                 100|            0|                 100|            0|                 200|            0|                null|         null|                null|         null|                null|         null|                null|         null|                null|         null|                null|         null|                null|         null|                null|         null|                null|         null|                null|         null|                null|         null|                null|         null|                null|         null|                null|         null|                null|         null|                null|         null|                null|         null|                null|         null|                null|         null|                null|         null|                null|         null|\n",
      "|2019-03-11|      Z302AKNM|         ST4000DM000| 4000787030016|      0|               105|    9127416|              null|       null|                95|          0|               100|          5|               100|          0|                87|  638229732|              null|       null|                62|      33457|                100|           0|               null|        null|                100|           5|               null|        null|               null|        null|               null|        null|               null|        null|               null|        null|               null|        null|               null|        null|                null|         null|                null|         null|                null|         null|                null|         null|                null|         null|                null|         null|                null|         null|                null|         null|                 100|            0|                 100|            0|                 100|            0|                 100|            0|                 100|            0|                  77|           23|                 100|            0|                 100|            0|                  79|        42529|                  23|           23|                null|         null|                null|         null|                 100|            0|                 100|            0|                 200|            0|                null|         null|                null|         null|                null|         null|                null|         null|                null|         null|                null|         null|                null|         null|                null|         null|                null|         null|                null|         null|                null|         null|                null|         null|                null|         null|                 100|        33280|                 100|  55782052112|                 100| 117350342185|                null|         null|                null|         null|                null|         null|                null|         null|                null|         null|\n",
      "|2019-03-16|PL2331LAHBTKNJ|HGST HMS5C4040BLE640| 4000787030016|      0|               100|          0|               134|        103|               100|        446|               100|          7|               100|          0|               100|          0|               113|         42|                98|      18172|                100|           0|               null|        null|                100|           7|               null|        null|               null|        null|               null|        null|               null|        null|               null|        null|               null|        null|               null|        null|                null|         null|                null|         null|                null|         null|                null|         null|                null|         null|                null|         null|                null|         null|                null|         null|                null|         null|                null|         null|                null|         null|                null|         null|                null|         null|                null|         null|                null|         null|                 100|          188|                 100|          188|                 187|           32|                null|         null|                 100|            0|                 100|            0|                 100|            0|                 200|            0|                null|         null|                null|         null|                null|         null|                null|         null|                null|         null|                null|         null|                null|         null|                null|         null|                null|         null|                null|         null|                null|         null|                null|         null|                null|         null|                null|         null|                null|         null|                null|         null|                null|         null|                null|         null|                null|         null|                null|         null|                null|         null|\n",
      "|2019-01-01|     175PP3IDT| TOSHIBA MQ01ABF050M|  500107862016|      0|               100|          0|               100|          0|               100|       1447|               100|          3|               100|          0|               100|          0|               100|          0|                71|      11765|                100|           0|               null|        null|                100|           3|               null|        null|               null|        null|               null|        null|               null|        null|               null|        null|               null|        null|               null|        null|                null|         null|                null|         null|                null|         null|                null|         null|                null|         null|                null|         null|                null|         null|                null|         null|                null|         null|                null|         null|                null|         null|                null|         null|                null|         null|                null|         null|                 100|            2|                 100|            0|                 100|         3640|                 100|           40|                null|         null|                 100|            0|                 100|            0|                 100|            0|                 200|            0|                null|         null|                null|         null|                null|         null|                 100|            0|                  71|        11758|                 100|            0|                 100|            0|                null|         null|                 100|          245|                null|         null|                null|         null|                null|         null|                null|         null|                 100|            0|                null|         null|                null|         null|                null|         null|                null|         null|                null|         null|                null|         null|                null|         null|\n",
      "+----------+--------------+--------------------+--------------+-------+------------------+-----------+------------------+-----------+------------------+-----------+------------------+-----------+------------------+-----------+------------------+-----------+------------------+-----------+------------------+-----------+-------------------+------------+-------------------+------------+-------------------+------------+-------------------+------------+-------------------+------------+-------------------+------------+-------------------+------------+-------------------+------------+-------------------+------------+-------------------+------------+--------------------+-------------+--------------------+-------------+--------------------+-------------+--------------------+-------------+--------------------+-------------+--------------------+-------------+--------------------+-------------+--------------------+-------------+--------------------+-------------+--------------------+-------------+--------------------+-------------+--------------------+-------------+--------------------+-------------+--------------------+-------------+--------------------+-------------+--------------------+-------------+--------------------+-------------+--------------------+-------------+--------------------+-------------+--------------------+-------------+--------------------+-------------+--------------------+-------------+--------------------+-------------+--------------------+-------------+--------------------+-------------+--------------------+-------------+--------------------+-------------+--------------------+-------------+--------------------+-------------+--------------------+-------------+--------------------+-------------+--------------------+-------------+--------------------+-------------+--------------------+-------------+--------------------+-------------+--------------------+-------------+--------------------+-------------+--------------------+-------------+--------------------+-------------+--------------------+-------------+--------------------+-------------+--------------------+-------------+--------------------+-------------+--------------------+-------------+\n",
      "only showing top 10 rows\n",
      "\n"
     ]
    }
   ],
   "source": [
    "df.show(10)"
   ],
   "metadata": {
    "collapsed": false,
    "pycharm": {
     "name": "#%%\n"
    }
   }
  },
  {
   "cell_type": "code",
   "execution_count": 86,
   "outputs": [
    {
     "name": "stdout",
     "output_type": "stream",
     "text": [
      "+------------+\n",
      "|mean_failure|\n",
      "+------------+\n",
      "|      5.4E-5|\n",
      "+------------+\n",
      "\n"
     ]
    }
   ],
   "source": [
    "# calculate the mean value\n",
    "df.createOrReplaceTempView(\"drive_info\")\n",
    "mean_failure = spark.sql(\"select avg(failure) as mean_failure from drive_info\")\n",
    "mean_failure.createOrReplaceTempView(\"mean_failure\")\n",
    "mean_failure.show()"
   ],
   "metadata": {
    "collapsed": false,
    "pycharm": {
     "name": "#%%\n"
    }
   }
  },
  {
   "cell_type": "code",
   "execution_count": 87,
   "outputs": [
    {
     "name": "stdout",
     "output_type": "stream",
     "text": [
      "+--------------------+\n",
      "|                 std|\n",
      "+--------------------+\n",
      "|0.007348278165283612|\n",
      "+--------------------+\n",
      "\n"
     ]
    }
   ],
   "source": [
    "# calculate the stand deviation\n",
    "stand_deviation = spark.sql(\"select std(failure) as std from drive_info\")\n",
    "stand_deviation.createGlobalTempView(\"stand_deviation\")\n",
    "stand_deviation.show()"
   ],
   "metadata": {
    "collapsed": false,
    "pycharm": {
     "name": "#%%\n"
    }
   }
  },
  {
   "cell_type": "code",
   "execution_count": 92,
   "outputs": [
    {
     "name": "stdout",
     "output_type": "stream",
     "text": [
      "0.007402278165283612\n"
     ]
    }
   ],
   "source": [
    "threshold = mean_failure.first()[0]+stand_deviation.first()[0]\n",
    "print(threshold)"
   ],
   "metadata": {
    "collapsed": false,
    "pycharm": {
     "name": "#%%\n"
    }
   }
  },
  {
   "cell_type": "code",
   "execution_count": 94,
   "outputs": [
    {
     "name": "stdout",
     "output_type": "stream",
     "text": [
      "+--------------+--------------------+-------+\n",
      "| serial_number|               model|failure|\n",
      "+--------------+--------------------+-------+\n",
      "|      ZCH0CK5V|       ST12000NM0007|      1|\n",
      "|      ZCH0CZ94|       ST12000NM0007|      1|\n",
      "|      ZA15AX9X|        ST8000NM0055|      1|\n",
      "|      ZA189XD8|        ST8000NM0055|      1|\n",
      "|PL2331LAG9L1WJ|HGST HMS5C4040ALE640|      1|\n",
      "|      ZCH0CN2T|       ST12000NM0007|      1|\n",
      "|      ZJV00EGC|       ST12000NM0007|      1|\n",
      "|      ZJV2EF1S|       ST12000NM0007|      1|\n",
      "|      ZA171V9Z|        ST8000NM0055|      1|\n",
      "|      ZJV03VVA|       ST12000NM0007|      1|\n",
      "|      ZA180YYT|        ST8000NM0055|      1|\n",
      "|PL2331LAGPKGSJ|HGST HMS5C4040ALE640|      1|\n",
      "|      S300Z60X|         ST4000DM000|      1|\n",
      "|      S30115HR|         ST4000DM000|      1|\n",
      "|      Z304JJ0A|         ST4000DM000|      1|\n",
      "|      ZA171RQB|        ST8000NM0055|      1|\n",
      "|      ZA13FB8F|         ST8000DM002|      1|\n",
      "|      S300X3XJ|         ST4000DM000|      1|\n",
      "|      ZCH0931T|       ST12000NM0007|      1|\n",
      "|      Z305DVWM|         ST4000DM000|      1|\n",
      "+--------------+--------------------+-------+\n",
      "only showing top 20 rows\n",
      "\n"
     ]
    }
   ],
   "source": [
    "df.select(\"serial_number\",\"model\",\"failure\").filter(df[\"failure\"] > threshold).show()"
   ],
   "metadata": {
    "collapsed": false,
    "pycharm": {
     "name": "#%%\n"
    }
   }
  },
  {
   "cell_type": "markdown",
   "source": [
    "## EXTRA CREDIT: Item Analysis\n",
    "For the dataset in Homework 2, Question 1: BreadBasket_DMS.zip, show both the two most bought items and the least two bought items, as tuples, per hour (over all days)."
   ],
   "metadata": {
    "collapsed": false
   }
  },
  {
   "cell_type": "code",
   "execution_count": 95,
   "outputs": [],
   "source": [
    "extra_credit_data_url = \"/root/workspace/python/jupyter_projects/nyu_bigdata/hw2/file/BreadBasket_DMS.csv\""
   ],
   "metadata": {
    "collapsed": false,
    "pycharm": {
     "name": "#%%\n"
    }
   }
  },
  {
   "cell_type": "code",
   "execution_count": 96,
   "outputs": [],
   "source": [
    "df_extra = spark.read.option(\"header\", \"true\").csv(extra_credit_data_url)"
   ],
   "metadata": {
    "collapsed": false,
    "pycharm": {
     "name": "#%%\n"
    }
   }
  },
  {
   "cell_type": "code",
   "execution_count": 97,
   "outputs": [
    {
     "name": "stdout",
     "output_type": "stream",
     "text": [
      "+----------+--------+-----------+-------------+\n",
      "|      Date|    Time|Transaction|         Item|\n",
      "+----------+--------+-----------+-------------+\n",
      "|2016-10-30|09:58:11|          1|        Bread|\n",
      "|2016-10-30|10:05:34|          2| Scandinavian|\n",
      "|2016-10-30|10:05:34|          2| Scandinavian|\n",
      "|2016-10-30|10:07:57|          3|Hot chocolate|\n",
      "|2016-10-30|10:07:57|          3|          Jam|\n",
      "|2016-10-30|10:07:57|          3|      Cookies|\n",
      "|2016-10-30|10:08:41|          4|       Muffin|\n",
      "|2016-10-30|10:13:03|          5|       Coffee|\n",
      "|2016-10-30|10:13:03|          5|       Pastry|\n",
      "|2016-10-30|10:13:03|          5|        Bread|\n",
      "+----------+--------+-----------+-------------+\n",
      "only showing top 10 rows\n",
      "\n"
     ]
    }
   ],
   "source": [
    "df_extra.createOrReplaceTempView(\"breadbasket_dms\")\n",
    "df_extra.show(10)"
   ],
   "metadata": {
    "collapsed": false,
    "pycharm": {
     "name": "#%%\n"
    }
   }
  },
  {
   "cell_type": "code",
   "execution_count": 200,
   "outputs": [
    {
     "name": "stdout",
     "output_type": "stream",
     "text": [
      "+--------------------+----+-------+\n",
      "|                Item|Hour|  Total|\n",
      "+--------------------+----+-------+\n",
      "|      Dulce de Leche|  17|   1167|\n",
      "|Afternoon with th...|  14|  54642|\n",
      "|             Brownie|   9|  92839|\n",
      "|            Truffles|  13| 203993|\n",
      "|      Olum & polenta|  14|   1920|\n",
      "|               Honey|  11|   9356|\n",
      "|              Coffee|  10|3946521|\n",
      "|                 Jam|  11|  88462|\n",
      "|            Truffles|   9|  10116|\n",
      "|  Pick and Mix Bowls|  13|     62|\n",
      "|            Bakewell|  16|  42807|\n",
      "|            Truffles|  18|  13389|\n",
      "|              Crepes|  13|   2603|\n",
      "|Extra Salami or Feta|  12|  30962|\n",
      "|               Juice|  15| 239785|\n",
      "|               Fudge|   8|   1049|\n",
      "|    My-5 Fruit Shoot|  12|   2184|\n",
      "|            Focaccia|  11|  13204|\n",
      "|      Jammie Dodgers|  14|  97274|\n",
      "|               Bread|  19|   6790|\n",
      "+--------------------+----+-------+\n",
      "only showing top 20 rows\n",
      "\n"
     ]
    }
   ],
   "source": [
    "sqlDF = spark.sql(\"select Item, HOUR(Time) as Hour, CAST(sum(Transaction) AS INT) as Total from breadbasket_dms group by HOUR(Time), Item\")\n",
    "sqlDF.show()"
   ],
   "metadata": {
    "collapsed": false,
    "pycharm": {
     "name": "#%%\n"
    }
   }
  },
  {
   "cell_type": "code",
   "execution_count": 201,
   "outputs": [],
   "source": [
    "sortedRdd = sqlDF.rdd.\\\n",
    "    map(lambda x: (x[\"Hour\"], x[\"Item\"], x[\"Total\"])).\\\n",
    "    map(lambda  x:(x[0],x[1],x[2])).\\\n",
    "    groupBy(lambda x:x[0]).\\\n",
    "    mapValues(lambda x: sorted(x, key=lambda y:y[2])).collect()"
   ],
   "metadata": {
    "collapsed": false,
    "pycharm": {
     "name": "#%%\n"
    }
   }
  },
  {
   "cell_type": "code",
   "execution_count": 202,
   "outputs": [],
   "source": [
    "dict_res = dict(sortedRdd)"
   ],
   "metadata": {
    "collapsed": false,
    "pycharm": {
     "name": "#%%\n"
    }
   }
  },
  {
   "cell_type": "code",
   "execution_count": 226,
   "outputs": [
    {
     "name": "stdout",
     "output_type": "stream",
     "text": [
      "1,(Bread),(Bread)\n",
      "7,('Pastry', 'Pastry'),('Coffee', 'Toast')\n",
      "8,('Tartine', 'Tartine'),('Coffee', 'Bread')\n",
      "9,('Victorian Sponge', 'Victorian Sponge'),('Coffee', 'Bread')\n",
      "10,('Honey', 'Honey'),('Coffee', 'Bread')\n",
      "11,('The BART', 'The BART'),('Coffee', 'Bread')\n",
      "12,(\"Ella's Kitchen Pouches\", \"Ella's Kitchen Pouches\"),('Coffee', 'Bread')\n",
      "13,('Pick and Mix Bowls', 'Pick and Mix Bowls'),('Coffee', 'Bread')\n",
      "14,('Victorian Sponge', 'Victorian Sponge'),('Coffee', 'Bread')\n",
      "15,('Dulce de Leche', 'Dulce de Leche'),('Coffee', 'Bread')\n",
      "16,('Hearty & Seasonal', 'Hearty & Seasonal'),('Coffee', 'Bread')\n",
      "17,('Dulce de Leche', 'Dulce de Leche'),('Coffee', 'Tea')\n",
      "18,('Cookies', 'Cookies'),('Afternoon with the baker', 'Tshirt')\n",
      "19,('Brownie', 'Brownie'),('Tshirt', 'Coke')\n",
      "20,('Fudge', 'Fudge'),('Postcard', 'Tshirt')\n",
      "21,('Hot chocolate', 'Hot chocolate'),('Vegan Feast', 'Hot chocolate')\n",
      "22,('Juice', 'Juice'),('Vegan Feast', 'Scandinavian')\n",
      "23,('Vegan Feast', 'Vegan Feast'),(\"Valentine's card\", 'Vegan Feast')\n"
     ]
    }
   ],
   "source": [
    "# print(dict_res)\n",
    "for each in dict_res.keys():\n",
    "    values = dict_res[each]\n",
    "    if 2 > len(values) > 0:\n",
    "        most = (values[0][1])\n",
    "        least = (values[len(values)-1][1])\n",
    "        print(str(each)+\",(\"+str(most)+\"),(\"+str(least)+\")\")\n",
    "    if len(values) >=2:\n",
    "        most = []\n",
    "        least = []\n",
    "        i = 0\n",
    "        while i <= len(values)-1:\n",
    "            if len(most) >= 2:\n",
    "                break\n",
    "            if values[i] != \"NONE\":\n",
    "                most.append(values[i][1])\n",
    "            i++1\n",
    "        i = len(values)-1\n",
    "        while i >= 0:\n",
    "            if len(least) >= 2:\n",
    "                break\n",
    "            if values[i][1] != \"NONE\":\n",
    "                least.append(values[i][1])\n",
    "            i-=1\n",
    "        most = tuple(most)\n",
    "        least = tuple(least)\n",
    "        print(str(each)+\",\"+str(most)+\",\"+str(least))\n",
    "\n"
   ],
   "metadata": {
    "collapsed": false,
    "pycharm": {
     "name": "#%%\n"
    }
   }
  }
 ],
 "metadata": {
  "kernelspec": {
   "display_name": "Python 3",
   "language": "python",
   "name": "python3"
  },
  "language_info": {
   "codemirror_mode": {
    "name": "ipython",
    "version": 2
   },
   "file_extension": ".py",
   "mimetype": "text/x-python",
   "name": "python",
   "nbconvert_exporter": "python",
   "pygments_lexer": "ipython2",
   "version": "2.7.6"
  }
 },
 "nbformat": 4,
 "nbformat_minor": 0
}